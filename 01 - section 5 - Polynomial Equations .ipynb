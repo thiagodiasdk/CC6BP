{
 "cells": [
  {
   "cell_type": "code",
   "execution_count": 1,
   "metadata": {
    "collapsed": false,
    "deletable": true,
    "editable": true
   },
   "outputs": [],
   "source": [
    "# In this file, we compute the generator of the ideal I defined in the section 5."
   ]
  },
  {
   "cell_type": "code",
   "execution_count": 2,
   "metadata": {
    "collapsed": false,
    "deletable": true,
    "editable": true
   },
   "outputs": [
    {
     "data": {
      "text/plain": [
       "(S125,\n",
       " S135,\n",
       " S145,\n",
       " S165,\n",
       " S215,\n",
       " S235,\n",
       " S245,\n",
       " S265,\n",
       " S315,\n",
       " S325,\n",
       " S345,\n",
       " S365,\n",
       " S415,\n",
       " S425,\n",
       " S435,\n",
       " S465,\n",
       " R12,\n",
       " R13,\n",
       " R14,\n",
       " R15,\n",
       " R23,\n",
       " R24,\n",
       " R25,\n",
       " R34,\n",
       " R35,\n",
       " R45,\n",
       " R56,\n",
       " M5)"
      ]
     },
     "execution_count": 2,
     "metadata": {},
     "output_type": "execute_result"
    }
   ],
   "source": [
    "#Define the variables for the problem\n",
    "var('S125,S135,S145,S165,S215,S235,S245,S265,S315,S325,S345,S365,S415,S425,S435,S465,R12,R13,R14,R15,R23,R24,R25,R34,R35,R45,R56,M5')"
   ]
  },
  {
   "cell_type": "code",
   "execution_count": 3,
   "metadata": {
    "collapsed": false,
    "deletable": true,
    "editable": true
   },
   "outputs": [],
   "source": [
    "#The Relations satisfied by the mutual dintânces are:\n",
    "R13=2-R12;\n",
    "R14=2;\n",
    "R23=2-2*R12;\n",
    "R24=2-R12;\n",
    "R34=R12;\n",
    "R35=R25;\n",
    "R45=R15;\n",
    "R56=2-2*R12;"
   ]
  },
  {
   "cell_type": "code",
   "execution_count": 4,
   "metadata": {
    "collapsed": false,
    "deletable": true,
    "editable": true
   },
   "outputs": [
    {
     "data": {
      "text/plain": [
       "1/8/(R12 - 1)^3 + 1/R15^3"
      ]
     },
     "execution_count": 4,
     "metadata": {},
     "output_type": "execute_result"
    }
   ],
   "source": [
    "#The relations between the variables S_{ijk} and R_{ij} are given by\n",
    "S125=R12^(-3)-R25^(-3);S125;S135=R13^(-3)-R35^(-3);S135;S145=R14^(-3)-R45^(-3);S145;\n",
    "S215=R12^(-3)-R15^(-3);S215;S235=R23^(-3)-R35^(-3);S235;S245=R24^(-3)-R45^(-3);S245;\n",
    "S315=R13^(-3)-R15^(-3);S315;S325=R23^(-3)-R25^(-3);S325;S345=R34^(-3)-R45^(-3);S345;\n",
    "S415=R14^(-3)-R15^(-3);S415;S425=R24^(-3)-R25^(-3);S425;S435=R34^(-3)-R35^(-3);S435;\n",
    "S165=R15^(-3)-R56^(-3);S165;S265=R25^(-3)-R56^(-3);S265;S365=R35^(-3)-R56^(-3);S365;S465=R45^(-3)-R56^(-3);S465"
   ]
  },
  {
   "cell_type": "code",
   "execution_count": 5,
   "metadata": {
    "collapsed": false,
    "deletable": true,
    "editable": true
   },
   "outputs": [
    {
     "data": {
      "text/html": [
       "<html><script type=\"math/tex; mode=display\">\\newcommand{\\Bold}[1]{\\mathbf{#1}}\\frac{1}{4} \\, M_{5} {\\left(\\frac{1}{{\\left(R_{12} - 1\\right)}^{3}} + \\frac{8}{R_{15}^{3}}\\right)} + {\\left(R_{12} - 2\\right)} {\\left(\\frac{1}{{\\left(R_{12} - 2\\right)}^{3}} + \\frac{1}{R_{25}^{3}}\\right)} + R_{12} {\\left(\\frac{1}{R_{12}^{3}} - \\frac{1}{R_{25}^{3}}\\right)} - \\frac{2}{R_{15}^{3}} + \\frac{1}{4}</script></html>"
      ],
      "text/plain": [
       "1/4*M5*(1/(R12 - 1)^3 + 8/R15^3) + (R12 - 2)*(1/(R12 - 2)^3 + 1/R25^3) + R12*(1/R12^3 - 1/R25^3) - 2/R15^3 + 1/4"
      ]
     },
     "metadata": {},
     "output_type": "display_data"
    },
    {
     "data": {
      "text/html": [
       "<html><script type=\"math/tex; mode=display\">\\newcommand{\\Bold}[1]{\\mathbf{#1}}-\\frac{1}{4} \\, M_{5} {\\left(R_{12} - 1\\right)} {\\left(\\frac{1}{{\\left(R_{12} - 1\\right)}^{3}} + \\frac{8}{R_{25}^{3}}\\right)} + \\frac{1}{4} \\, {\\left(R_{12} - 1\\right)} {\\left(\\frac{1}{{\\left(R_{12} - 1\\right)}^{3}} + \\frac{8}{R_{25}^{3}}\\right)} + {\\left(R_{12} - 2\\right)} {\\left(\\frac{1}{{\\left(R_{12} - 2\\right)}^{3}} + \\frac{1}{R_{15}^{3}}\\right)} - R_{12} {\\left(\\frac{1}{R_{12}^{3}} - \\frac{1}{R_{15}^{3}}\\right)}</script></html>"
      ],
      "text/plain": [
       "-1/4*M5*(R12 - 1)*(1/(R12 - 1)^3 + 8/R25^3) + 1/4*(R12 - 1)*(1/(R12 - 1)^3 + 8/R25^3) + (R12 - 2)*(1/(R12 - 2)^3 + 1/R15^3) - R12*(1/R12^3 - 1/R15^3)"
      ]
     },
     "metadata": {},
     "output_type": "display_data"
    },
    {
     "data": {
      "text/html": [
       "<html><script type=\"math/tex; mode=display\">\\newcommand{\\Bold}[1]{\\mathbf{#1}}\\frac{1}{4} \\, M_{5} {\\left(R_{12} - 1\\right)} {\\left(\\frac{1}{{\\left(R_{12} - 1\\right)}^{3}} + \\frac{8}{R_{25}^{3}}\\right)} - \\frac{1}{4} \\, {\\left(R_{12} - 1\\right)} {\\left(\\frac{1}{{\\left(R_{12} - 1\\right)}^{3}} + \\frac{8}{R_{25}^{3}}\\right)} - {\\left(R_{12} - 2\\right)} {\\left(\\frac{1}{{\\left(R_{12} - 2\\right)}^{3}} + \\frac{1}{R_{15}^{3}}\\right)} + R_{12} {\\left(\\frac{1}{R_{12}^{3}} - \\frac{1}{R_{15}^{3}}\\right)}</script></html>"
      ],
      "text/plain": [
       "1/4*M5*(R12 - 1)*(1/(R12 - 1)^3 + 8/R25^3) - 1/4*(R12 - 1)*(1/(R12 - 1)^3 + 8/R25^3) - (R12 - 2)*(1/(R12 - 2)^3 + 1/R15^3) + R12*(1/R12^3 - 1/R15^3)"
      ]
     },
     "metadata": {},
     "output_type": "display_data"
    },
    {
     "data": {
      "text/html": [
       "<html><script type=\"math/tex; mode=display\">\\newcommand{\\Bold}[1]{\\mathbf{#1}}\\frac{1}{4} \\, M_{5} {\\left(\\frac{1}{{\\left(R_{12} - 1\\right)}^{3}} + \\frac{8}{R_{15}^{3}}\\right)} + {\\left(R_{12} - 2\\right)} {\\left(\\frac{1}{{\\left(R_{12} - 2\\right)}^{3}} + \\frac{1}{R_{25}^{3}}\\right)} + R_{12} {\\left(\\frac{1}{R_{12}^{3}} - \\frac{1}{R_{25}^{3}}\\right)} - \\frac{2}{R_{15}^{3}} + \\frac{1}{4}</script></html>"
      ],
      "text/plain": [
       "1/4*M5*(1/(R12 - 1)^3 + 8/R15^3) + (R12 - 2)*(1/(R12 - 2)^3 + 1/R25^3) + R12*(1/R12^3 - 1/R25^3) - 2/R15^3 + 1/4"
      ]
     },
     "metadata": {},
     "output_type": "display_data"
    }
   ],
   "source": [
    "# We replace the relations above in the Laura-Andoyer equations\n",
    "LA1=S125*R12+ S135*R13+ S145*R14+ 2*M5*S165*(R14-1);show(LA1)\n",
    "LA2=-S215*R12+S235*R23+S245*R24-2*M5*S265*(1-R24);show(LA2)\n",
    "LA3=-S315*R13-S325*R23+S345*R34-2*S365*M5*(1-R34);show(LA3)\n",
    "LA4=S415*R14+S425*R24+S435*R34+2*M5*S465;show(LA4)"
   ]
  },
  {
   "cell_type": "code",
   "execution_count": 6,
   "metadata": {
    "collapsed": false,
    "deletable": true,
    "editable": true
   },
   "outputs": [
    {
     "name": "stdout",
     "output_type": "stream",
     "text": [
      "LA1\n"
     ]
    },
    {
     "data": {
      "text/html": [
       "<html><script type=\"math/tex; mode=display\">\\newcommand{\\Bold}[1]{\\mathbf{#1}}R_{12}^{7} R_{15}^{3} R_{25}^{3} - 7 \\, R_{12}^{6} R_{15}^{3} R_{25}^{3} + 8 \\, M_{5} R_{12}^{7} R_{25}^{3} + M_{5} R_{12}^{4} R_{15}^{3} R_{25}^{3} + 27 \\, R_{12}^{5} R_{15}^{3} R_{25}^{3} - 8 \\, R_{12}^{7} R_{15}^{3} - 56 \\, M_{5} R_{12}^{6} R_{25}^{3} - 8 \\, R_{12}^{7} R_{25}^{3} - 4 \\, M_{5} R_{12}^{3} R_{15}^{3} R_{25}^{3} - 65 \\, R_{12}^{4} R_{15}^{3} R_{25}^{3} + 56 \\, R_{12}^{6} R_{15}^{3} + 152 \\, M_{5} R_{12}^{5} R_{25}^{3} + 56 \\, R_{12}^{6} R_{25}^{3} + 4 \\, M_{5} R_{12}^{2} R_{15}^{3} R_{25}^{3} + 104 \\, R_{12}^{3} R_{15}^{3} R_{25}^{3} - 152 \\, R_{12}^{5} R_{15}^{3} - 200 \\, M_{5} R_{12}^{4} R_{25}^{3} - 152 \\, R_{12}^{5} R_{25}^{3} - 108 \\, R_{12}^{2} R_{15}^{3} R_{25}^{3} + 200 \\, R_{12}^{4} R_{15}^{3} + 128 \\, M_{5} R_{12}^{3} R_{25}^{3} + 200 \\, R_{12}^{4} R_{25}^{3} + 64 \\, R_{12} R_{15}^{3} R_{25}^{3} - 128 \\, R_{12}^{3} R_{15}^{3} - 32 \\, M_{5} R_{12}^{2} R_{25}^{3} - 128 \\, R_{12}^{3} R_{25}^{3} - 16 \\, R_{15}^{3} R_{25}^{3} + 32 \\, R_{12}^{2} R_{15}^{3} + 32 \\, R_{12}^{2} R_{25}^{3}</script></html>"
      ],
      "text/plain": [
       "R12^7*R15^3*R25^3 - 7*R12^6*R15^3*R25^3 + 8*M5*R12^7*R25^3 + M5*R12^4*R15^3*R25^3 + 27*R12^5*R15^3*R25^3 - 8*R12^7*R15^3 - 56*M5*R12^6*R25^3 - 8*R12^7*R25^3 - 4*M5*R12^3*R15^3*R25^3 - 65*R12^4*R15^3*R25^3 + 56*R12^6*R15^3 + 152*M5*R12^5*R25^3 + 56*R12^6*R25^3 + 4*M5*R12^2*R15^3*R25^3 + 104*R12^3*R15^3*R25^3 - 152*R12^5*R15^3 - 200*M5*R12^4*R25^3 - 152*R12^5*R25^3 - 108*R12^2*R15^3*R25^3 + 200*R12^4*R15^3 + 128*M5*R12^3*R25^3 + 200*R12^4*R25^3 + 64*R12*R15^3*R25^3 - 128*R12^3*R15^3 - 32*M5*R12^2*R25^3 - 128*R12^3*R25^3 - 16*R15^3*R25^3 + 32*R12^2*R15^3 + 32*R12^2*R25^3"
      ]
     },
     "metadata": {},
     "output_type": "display_data"
    },
    {
     "name": "stdout",
     "output_type": "stream",
     "text": [
      "LA2\n"
     ]
    },
    {
     "data": {
      "text/html": [
       "<html><script type=\"math/tex; mode=display\">\\newcommand{\\Bold}[1]{\\mathbf{#1}}-8 \\, M_{5} R_{12}^{7} R_{15}^{3} - M_{5} R_{12}^{4} R_{15}^{3} R_{25}^{3} + 56 \\, M_{5} R_{12}^{6} R_{15}^{3} + 8 \\, R_{12}^{7} R_{15}^{3} + 8 \\, R_{12}^{7} R_{25}^{3} + 4 \\, M_{5} R_{12}^{3} R_{15}^{3} R_{25}^{3} + R_{12}^{4} R_{15}^{3} R_{25}^{3} - 152 \\, M_{5} R_{12}^{5} R_{15}^{3} - 56 \\, R_{12}^{6} R_{15}^{3} - 56 \\, R_{12}^{6} R_{25}^{3} - 4 \\, M_{5} R_{12}^{2} R_{15}^{3} R_{25}^{3} + 12 \\, R_{12}^{3} R_{15}^{3} R_{25}^{3} + 200 \\, M_{5} R_{12}^{4} R_{15}^{3} + 152 \\, R_{12}^{5} R_{15}^{3} + 152 \\, R_{12}^{5} R_{25}^{3} - 44 \\, R_{12}^{2} R_{15}^{3} R_{25}^{3} - 128 \\, M_{5} R_{12}^{3} R_{15}^{3} - 200 \\, R_{12}^{4} R_{15}^{3} - 200 \\, R_{12}^{4} R_{25}^{3} + 48 \\, R_{12} R_{15}^{3} R_{25}^{3} + 32 \\, M_{5} R_{12}^{2} R_{15}^{3} + 128 \\, R_{12}^{3} R_{15}^{3} + 128 \\, R_{12}^{3} R_{25}^{3} - 16 \\, R_{15}^{3} R_{25}^{3} - 32 \\, R_{12}^{2} R_{15}^{3} - 32 \\, R_{12}^{2} R_{25}^{3}</script></html>"
      ],
      "text/plain": [
       "-8*M5*R12^7*R15^3 - M5*R12^4*R15^3*R25^3 + 56*M5*R12^6*R15^3 + 8*R12^7*R15^3 + 8*R12^7*R25^3 + 4*M5*R12^3*R15^3*R25^3 + R12^4*R15^3*R25^3 - 152*M5*R12^5*R15^3 - 56*R12^6*R15^3 - 56*R12^6*R25^3 - 4*M5*R12^2*R15^3*R25^3 + 12*R12^3*R15^3*R25^3 + 200*M5*R12^4*R15^3 + 152*R12^5*R15^3 + 152*R12^5*R25^3 - 44*R12^2*R15^3*R25^3 - 128*M5*R12^3*R15^3 - 200*R12^4*R15^3 - 200*R12^4*R25^3 + 48*R12*R15^3*R25^3 + 32*M5*R12^2*R15^3 + 128*R12^3*R15^3 + 128*R12^3*R25^3 - 16*R15^3*R25^3 - 32*R12^2*R15^3 - 32*R12^2*R25^3"
      ]
     },
     "metadata": {},
     "output_type": "display_data"
    },
    {
     "name": "stdout",
     "output_type": "stream",
     "text": [
      "LA3\n"
     ]
    },
    {
     "data": {
      "text/html": [
       "<html><script type=\"math/tex; mode=display\">\\newcommand{\\Bold}[1]{\\mathbf{#1}}8 \\, M_{5} R_{12}^{7} R_{15}^{3} + M_{5} R_{12}^{4} R_{15}^{3} R_{25}^{3} - 56 \\, M_{5} R_{12}^{6} R_{15}^{3} - 8 \\, R_{12}^{7} R_{15}^{3} - 8 \\, R_{12}^{7} R_{25}^{3} - 4 \\, M_{5} R_{12}^{3} R_{15}^{3} R_{25}^{3} - R_{12}^{4} R_{15}^{3} R_{25}^{3} + 152 \\, M_{5} R_{12}^{5} R_{15}^{3} + 56 \\, R_{12}^{6} R_{15}^{3} + 56 \\, R_{12}^{6} R_{25}^{3} + 4 \\, M_{5} R_{12}^{2} R_{15}^{3} R_{25}^{3} - 12 \\, R_{12}^{3} R_{15}^{3} R_{25}^{3} - 200 \\, M_{5} R_{12}^{4} R_{15}^{3} - 152 \\, R_{12}^{5} R_{15}^{3} - 152 \\, R_{12}^{5} R_{25}^{3} + 44 \\, R_{12}^{2} R_{15}^{3} R_{25}^{3} + 128 \\, M_{5} R_{12}^{3} R_{15}^{3} + 200 \\, R_{12}^{4} R_{15}^{3} + 200 \\, R_{12}^{4} R_{25}^{3} - 48 \\, R_{12} R_{15}^{3} R_{25}^{3} - 32 \\, M_{5} R_{12}^{2} R_{15}^{3} - 128 \\, R_{12}^{3} R_{15}^{3} - 128 \\, R_{12}^{3} R_{25}^{3} + 16 \\, R_{15}^{3} R_{25}^{3} + 32 \\, R_{12}^{2} R_{15}^{3} + 32 \\, R_{12}^{2} R_{25}^{3}</script></html>"
      ],
      "text/plain": [
       "8*M5*R12^7*R15^3 + M5*R12^4*R15^3*R25^3 - 56*M5*R12^6*R15^3 - 8*R12^7*R15^3 - 8*R12^7*R25^3 - 4*M5*R12^3*R15^3*R25^3 - R12^4*R15^3*R25^3 + 152*M5*R12^5*R15^3 + 56*R12^6*R15^3 + 56*R12^6*R25^3 + 4*M5*R12^2*R15^3*R25^3 - 12*R12^3*R15^3*R25^3 - 200*M5*R12^4*R15^3 - 152*R12^5*R15^3 - 152*R12^5*R25^3 + 44*R12^2*R15^3*R25^3 + 128*M5*R12^3*R15^3 + 200*R12^4*R15^3 + 200*R12^4*R25^3 - 48*R12*R15^3*R25^3 - 32*M5*R12^2*R15^3 - 128*R12^3*R15^3 - 128*R12^3*R25^3 + 16*R15^3*R25^3 + 32*R12^2*R15^3 + 32*R12^2*R25^3"
      ]
     },
     "metadata": {},
     "output_type": "display_data"
    },
    {
     "name": "stdout",
     "output_type": "stream",
     "text": [
      "LA4\n"
     ]
    },
    {
     "data": {
      "text/html": [
       "<html><script type=\"math/tex; mode=display\">\\newcommand{\\Bold}[1]{\\mathbf{#1}}R_{12}^{7} R_{15}^{3} R_{25}^{3} - 7 \\, R_{12}^{6} R_{15}^{3} R_{25}^{3} + 8 \\, M_{5} R_{12}^{7} R_{25}^{3} + M_{5} R_{12}^{4} R_{15}^{3} R_{25}^{3} + 27 \\, R_{12}^{5} R_{15}^{3} R_{25}^{3} - 8 \\, R_{12}^{7} R_{15}^{3} - 56 \\, M_{5} R_{12}^{6} R_{25}^{3} - 8 \\, R_{12}^{7} R_{25}^{3} - 4 \\, M_{5} R_{12}^{3} R_{15}^{3} R_{25}^{3} - 65 \\, R_{12}^{4} R_{15}^{3} R_{25}^{3} + 56 \\, R_{12}^{6} R_{15}^{3} + 152 \\, M_{5} R_{12}^{5} R_{25}^{3} + 56 \\, R_{12}^{6} R_{25}^{3} + 4 \\, M_{5} R_{12}^{2} R_{15}^{3} R_{25}^{3} + 104 \\, R_{12}^{3} R_{15}^{3} R_{25}^{3} - 152 \\, R_{12}^{5} R_{15}^{3} - 200 \\, M_{5} R_{12}^{4} R_{25}^{3} - 152 \\, R_{12}^{5} R_{25}^{3} - 108 \\, R_{12}^{2} R_{15}^{3} R_{25}^{3} + 200 \\, R_{12}^{4} R_{15}^{3} + 128 \\, M_{5} R_{12}^{3} R_{25}^{3} + 200 \\, R_{12}^{4} R_{25}^{3} + 64 \\, R_{12} R_{15}^{3} R_{25}^{3} - 128 \\, R_{12}^{3} R_{15}^{3} - 32 \\, M_{5} R_{12}^{2} R_{25}^{3} - 128 \\, R_{12}^{3} R_{25}^{3} - 16 \\, R_{15}^{3} R_{25}^{3} + 32 \\, R_{12}^{2} R_{15}^{3} + 32 \\, R_{12}^{2} R_{25}^{3}</script></html>"
      ],
      "text/plain": [
       "R12^7*R15^3*R25^3 - 7*R12^6*R15^3*R25^3 + 8*M5*R12^7*R25^3 + M5*R12^4*R15^3*R25^3 + 27*R12^5*R15^3*R25^3 - 8*R12^7*R15^3 - 56*M5*R12^6*R25^3 - 8*R12^7*R25^3 - 4*M5*R12^3*R15^3*R25^3 - 65*R12^4*R15^3*R25^3 + 56*R12^6*R15^3 + 152*M5*R12^5*R25^3 + 56*R12^6*R25^3 + 4*M5*R12^2*R15^3*R25^3 + 104*R12^3*R15^3*R25^3 - 152*R12^5*R15^3 - 200*M5*R12^4*R25^3 - 152*R12^5*R25^3 - 108*R12^2*R15^3*R25^3 + 200*R12^4*R15^3 + 128*M5*R12^3*R25^3 + 200*R12^4*R25^3 + 64*R12*R15^3*R25^3 - 128*R12^3*R15^3 - 32*M5*R12^2*R25^3 - 128*R12^3*R25^3 - 16*R15^3*R25^3 + 32*R12^2*R15^3 + 32*R12^2*R25^3"
      ]
     },
     "metadata": {},
     "output_type": "display_data"
    }
   ],
   "source": [
    "#Colecting the numerator of Laura Andoyer equations we obtain:\n",
    "print 'LA1'\n",
    "show(LA1.numerator());\n",
    "print 'LA2'\n",
    "show(LA2.numerator());\n",
    "print 'LA3'\n",
    "show(LA3.numerator());\n",
    "print 'LA4'\n",
    "show(LA4.numerator());"
   ]
  },
  {
   "cell_type": "code",
   "execution_count": null,
   "metadata": {
    "collapsed": true
   },
   "outputs": [],
   "source": []
  }
 ],
 "metadata": {
  "kernelspec": {
   "display_name": "SageMath 8.1",
   "language": "",
   "name": "sagemath"
  },
  "language_info": {
   "codemirror_mode": {
    "name": "ipython",
    "version": 2
   },
   "file_extension": ".py",
   "mimetype": "text/x-python",
   "name": "python",
   "nbconvert_exporter": "python",
   "pygments_lexer": "ipython2",
   "version": "2.7.14"
  }
 },
 "nbformat": 4,
 "nbformat_minor": 0
}
