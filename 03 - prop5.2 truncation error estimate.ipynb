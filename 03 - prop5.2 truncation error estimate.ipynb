{
 "cells": [
  {
   "cell_type": "code",
   "execution_count": 1,
   "metadata": {
    "collapsed": false,
    "deletable": true,
    "editable": true
   },
   "outputs": [],
   "source": [
    "# In this file, we present the estimate based on the middle-value theorem presented on proposition 5.2"
   ]
  },
  {
   "cell_type": "code",
   "execution_count": 2,
   "metadata": {
    "collapsed": false,
    "deletable": true,
    "editable": true
   },
   "outputs": [
    {
     "data": {
      "text/plain": [
       "(R12, R15, R25, M5)"
      ]
     },
     "execution_count": 2,
     "metadata": {},
     "output_type": "execute_result"
    }
   ],
   "source": [
    "#We define the variables used in this part:\n",
    "var('R12,R15,R25,M5')"
   ]
  },
  {
   "cell_type": "code",
   "execution_count": 3,
   "metadata": {
    "collapsed": false,
    "deletable": true,
    "editable": true
   },
   "outputs": [
    {
     "data": {
      "text/plain": [
       "8*R12^7*R25^3 + R12^4*R15^3*R25^3 - 56*R12^6*R25^3 - 4*R12^3*R15^3*R25^3 + 152*R12^5*R25^3 + 4*R12^2*R15^3*R25^3 - 200*R12^4*R25^3 + 128*R12^3*R25^3 - 32*R12^2*R25^3"
      ]
     },
     "execution_count": 3,
     "metadata": {},
     "output_type": "execute_result"
    }
   ],
   "source": [
    "#We Define the leading coefficient LC1: \n",
    "LC1=(8*R12^7*R25^3-56*R12^6*R25^3+152*R12^5*R25^3+R12^4*R15^3*R25^3-200*R12^4*R25^3-4*R12^3*R15^3*R25^3+128*R12^3*R25^3+4*R12^2*R15^3*R25^3-32*R12^2*R25^3);LC1"
   ]
  },
  {
   "cell_type": "code",
   "execution_count": 4,
   "metadata": {
    "collapsed": false,
    "deletable": true,
    "editable": true
   },
   "outputs": [],
   "source": [
    "#  R15 and R25 are given by:\n",
    "R25=sqrt(2*(1-R12)^2)\n",
    "R15=sqrt(1+(1-R12)^2)"
   ]
  },
  {
   "cell_type": "code",
   "execution_count": 5,
   "metadata": {
    "collapsed": false,
    "deletable": true,
    "editable": true
   },
   "outputs": [
    {
     "data": {
      "text/plain": [
       "16*sqrt(2)*((R12 - 1)^2)^(3/2)*R12^7 - 112*sqrt(2)*((R12 - 1)^2)^(3/2)*R12^6 + 2*sqrt(2)*((R12 - 1)^2 + 1)^(3/2)*((R12 - 1)^2)^(3/2)*R12^4 + 304*sqrt(2)*((R12 - 1)^2)^(3/2)*R12^5 - 8*sqrt(2)*((R12 - 1)^2 + 1)^(3/2)*((R12 - 1)^2)^(3/2)*R12^3 - 400*sqrt(2)*((R12 - 1)^2)^(3/2)*R12^4 + 8*sqrt(2)*((R12 - 1)^2 + 1)^(3/2)*((R12 - 1)^2)^(3/2)*R12^2 + 256*sqrt(2)*((R12 - 1)^2)^(3/2)*R12^3 - 64*sqrt(2)*((R12 - 1)^2)^(3/2)*R12^2"
      ]
     },
     "execution_count": 5,
     "metadata": {},
     "output_type": "execute_result"
    }
   ],
   "source": [
    "#Define the differentiable function alpha1 as in proposition 5.2.\n",
    "alpha1=LC1.substitute(R25=sqrt(2*(1-R12)^2),R15=sqrt(1+(1-R12)^2));alpha1"
   ]
  },
  {
   "cell_type": "code",
   "execution_count": 6,
   "metadata": {
    "collapsed": false,
    "deletable": true,
    "editable": true
   },
   "outputs": [],
   "source": [
    "alpha1(r12)=16*sqrt(2)*((R12 - 1)^2)^(3/2)*R12^7 - 112*sqrt(2)*((R12 - 1)^2)^(3/2)*R12^6 + 2*sqrt(2)*((R12 - 1)^2 + 1)^(3/2)*((R12 - 1)^2)^(3/2)*R12^4 + 304*sqrt(2)*((R12 - 1)^2)^(3/2)*R12^5 - 8*sqrt(2)*((R12 - 1)^2 + 1)^(3/2)*((R12 - 1)^2)^(3/2)*R12^3 - 400*sqrt(2)*((R12 - 1)^2)^(3/2)*R12^4 + 8*sqrt(2)*((R12 - 1)^2 + 1)^(3/2)*((R12 - 1)^2)^(3/2)*R12^2 + 256*sqrt(2)*((R12 - 1)^2)^(3/2)*R12^3 - 64*sqrt(2)*((R12 - 1)^2)^(3/2)*R12^2"
   ]
  },
  {
   "cell_type": "code",
   "execution_count": 7,
   "metadata": {
    "collapsed": false,
    "deletable": true,
    "editable": true
   },
   "outputs": [
    {
     "data": {
      "text/plain": [
       "48*sqrt(2)*sqrt((R12 - 1)^2)*(R12 - 1)*R12^7 + 112*sqrt(2)*((R12 - 1)^2)^(3/2)*R12^6 - 336*sqrt(2)*sqrt((R12 - 1)^2)*(R12 - 1)*R12^6 + 6*sqrt(2)*((R12 - 1)^2 + 1)^(3/2)*sqrt((R12 - 1)^2)*(R12 - 1)*R12^4 + 6*sqrt(2)*sqrt((R12 - 1)^2 + 1)*((R12 - 1)^2)^(3/2)*(R12 - 1)*R12^4 - 672*sqrt(2)*((R12 - 1)^2)^(3/2)*R12^5 + 912*sqrt(2)*sqrt((R12 - 1)^2)*(R12 - 1)*R12^5 + 8*sqrt(2)*((R12 - 1)^2 + 1)^(3/2)*((R12 - 1)^2)^(3/2)*R12^3 - 24*sqrt(2)*((R12 - 1)^2 + 1)^(3/2)*sqrt((R12 - 1)^2)*(R12 - 1)*R12^3 - 24*sqrt(2)*sqrt((R12 - 1)^2 + 1)*((R12 - 1)^2)^(3/2)*(R12 - 1)*R12^3 + 1520*sqrt(2)*((R12 - 1)^2)^(3/2)*R12^4 - 1200*sqrt(2)*sqrt((R12 - 1)^2)*(R12 - 1)*R12^4 - 24*sqrt(2)*((R12 - 1)^2 + 1)^(3/2)*((R12 - 1)^2)^(3/2)*R12^2 + 24*sqrt(2)*((R12 - 1)^2 + 1)^(3/2)*sqrt((R12 - 1)^2)*(R12 - 1)*R12^2 + 24*sqrt(2)*sqrt((R12 - 1)^2 + 1)*((R12 - 1)^2)^(3/2)*(R12 - 1)*R12^2 - 1600*sqrt(2)*((R12 - 1)^2)^(3/2)*R12^3 + 768*sqrt(2)*sqrt((R12 - 1)^2)*(R12 - 1)*R12^3 + 16*sqrt(2)*((R12 - 1)^2 + 1)^(3/2)*((R12 - 1)^2)^(3/2)*R12 + 768*sqrt(2)*((R12 - 1)^2)^(3/2)*R12^2 - 192*sqrt(2)*sqrt((R12 - 1)^2)*(R12 - 1)*R12^2 - 128*sqrt(2)*((R12 - 1)^2)^(3/2)*R12"
      ]
     },
     "execution_count": 7,
     "metadata": {},
     "output_type": "execute_result"
    }
   ],
   "source": [
    "#The derivative of alpha1 is given by\n",
    "der_alpha1(R12)=alpha1.derivative();der_alpha1(R12)"
   ]
  },
  {
   "cell_type": "code",
   "execution_count": 8,
   "metadata": {
    "collapsed": false,
    "deletable": true,
    "editable": true
   },
   "outputs": [],
   "source": [
    "#Using the triangular inequality, the estimate |R12-1|<|R12+1| for 0<R12<1 we get the following  function up_bound_error_der. Note that  up_bound_error_der1>=der_alpha1 if 0<R12<1:\n",
    "up_bound_error_der1(R12)=48*sqrt(2)*sqrt((R12 + 1)^2)*(R12 + 1)*R12^7 + 112*sqrt(2)*((R12 + 1)^2)^(3/2)*R12^6 + 336*sqrt(2)*sqrt((R12 + 1)^2)*(R12 + 1)*R12^6 + 6*sqrt(2)*((R12 + 1)^2 + 1)^(3/2)*sqrt((R12 + 1)^2)*(R12 + 1)*R12^4 + 6*sqrt(2)*sqrt((R12 + 1)^2 + 1)*((R12 + 1)^2)^(3/2)*(R12 + 1)*R12^4 + 672*sqrt(2)*((R12 + 1)^2)^(3/2)*R12^5 + 912*sqrt(2)*sqrt((R12 + 1)^2)*(R12 + 1)*R12^5 + 8*sqrt(2)*((R12 + 1)^2 + 1)^(3/2)*((R12 + 1)^2)^(3/2)*R12^3 + 24*sqrt(2)*((R12 + 1)^2 + 1)^(3/2)*sqrt((R12 + 1)^2)*(R12 + 1)*R12^3 + 24*sqrt(2)*sqrt((R12 + 1)^2 + 1)*((R12 + 1)^2)^(3/2)*(R12 + 1)*R12^3 + 1520*sqrt(2)*((R12 + 1)^2)^(3/2)*R12^4 + 1200*sqrt(2)*sqrt((R12 + 1)^2)*(R12 + 1)*R12^4 + 24*sqrt(2)*((R12 + 1)^2 + 1)^(3/2)*((R12 + 1)^2)^(3/2)*R12^2 + 24*sqrt(2)*((R12 + 1)^2 + 1)^(3/2)*sqrt((R12 + 1)^2)*(R12 + 1)*R12^2 + 24*sqrt(2)*sqrt((R12 + 1)^2 + 1)*((R12 + 1)^2)^(3/2)*(R12 + 1)*R12^2 + 1600*sqrt(2)*((R12 + 1)^2)^(3/2)*R12^3 + 768*sqrt(2)*sqrt((R12 + 1)^2)*(R12 + 1)*R12^3 + 16*sqrt(2)*((R12 + 1)^2 + 1)^(3/2)*((R12 + 1)^2)^(3/2)*R12 + 768*sqrt(2)*((R12 + 1)^2)^(3/2)*R12^2 + 192*sqrt(2)*sqrt((R12 + 1)^2)*(R12 + 1)*R12^2 + 128*sqrt(2)*((R12 + 1)^2)^(3/2)*R12"
   ]
  },
  {
   "cell_type": "code",
   "execution_count": 9,
   "metadata": {
    "collapsed": false,
    "deletable": true,
    "editable": true
   },
   "outputs": [
    {
     "data": {
      "text/plain": [
       "3011.70057149184*sqrt(2)"
      ]
     },
     "execution_count": 9,
     "metadata": {},
     "output_type": "execute_result"
    }
   ],
   "source": [
    "# Since up_bound_error_der1>= der_alpha1  if 0<R12<1, the function up_bound_error_der is monotonic in (0,1), and the constant c1 garanted by the middle value theorem is less than 0.5, we get the following upper bound for der_alpha1(c1)\n",
    "up_bound_error_der1(0.5)"
   ]
  },
  {
   "cell_type": "code",
   "execution_count": 10,
   "metadata": {
    "collapsed": false,
    "deletable": true,
    "editable": true
   },
   "outputs": [
    {
     "data": {
      "text/plain": [
       "6.02340114298368e-6"
      ]
     },
     "execution_count": 10,
     "metadata": {},
     "output_type": "execute_result"
    }
   ],
   "source": [
    "# Hence, we obtain the following upper bound for the truncation error\n",
    "error_estimate=3011.70057149184*2*10^(-9);error_estimate"
   ]
  },
  {
   "cell_type": "code",
   "execution_count": 11,
   "metadata": {
    "collapsed": false,
    "deletable": true,
    "editable": true
   },
   "outputs": [
    {
     "data": {
      "text/plain": [
       "-8*((R12 - 1)^2 + 1)^(3/2)*R12^7 - 2*sqrt(2)*((R12 - 1)^2 + 1)^(3/2)*((R12 - 1)^2)^(3/2)*R12^4 + 56*((R12 - 1)^2 + 1)^(3/2)*R12^6 + 8*sqrt(2)*((R12 - 1)^2 + 1)^(3/2)*((R12 - 1)^2)^(3/2)*R12^3 - 152*((R12 - 1)^2 + 1)^(3/2)*R12^5 - 8*sqrt(2)*((R12 - 1)^2 + 1)^(3/2)*((R12 - 1)^2)^(3/2)*R12^2 + 200*((R12 - 1)^2 + 1)^(3/2)*R12^4 - 128*((R12 - 1)^2 + 1)^(3/2)*R12^3 + 32*((R12 - 1)^2 + 1)^(3/2)*R12^2"
      ]
     },
     "execution_count": 11,
     "metadata": {},
     "output_type": "execute_result"
    }
   ],
   "source": [
    "#Define the leading coefficient LC2:\n",
    "LC2= (-8*R12^7*R15^3+56*R12^6*R15^3-152*R12^5*R15^3-R12^4*R15^3*R25^3+200*R12^4*R15^3+4*R12^3*R15^3*R25^3-128*R12^3*R15^3-4*R12^2*R15^3*R25^3+32*R12^2*R15^3);LC2"
   ]
  },
  {
   "cell_type": "code",
   "execution_count": 12,
   "metadata": {
    "collapsed": false,
    "deletable": true,
    "editable": true
   },
   "outputs": [
    {
     "data": {
      "text/plain": [
       "-8*((R12 - 1)^2 + 1)^(3/2)*R12^7 - 2*sqrt(2)*((R12 - 1)^2 + 1)^(3/2)*((R12 - 1)^2)^(3/2)*R12^4 + 56*((R12 - 1)^2 + 1)^(3/2)*R12^6 + 8*sqrt(2)*((R12 - 1)^2 + 1)^(3/2)*((R12 - 1)^2)^(3/2)*R12^3 - 152*((R12 - 1)^2 + 1)^(3/2)*R12^5 - 8*sqrt(2)*((R12 - 1)^2 + 1)^(3/2)*((R12 - 1)^2)^(3/2)*R12^2 + 200*((R12 - 1)^2 + 1)^(3/2)*R12^4 - 128*((R12 - 1)^2 + 1)^(3/2)*R12^3 + 32*((R12 - 1)^2 + 1)^(3/2)*R12^2"
      ]
     },
     "execution_count": 12,
     "metadata": {},
     "output_type": "execute_result"
    }
   ],
   "source": [
    "#Define the differentiable function alpha2 as in proposition 5.2.\n",
    "alpha2=LC2.substitute(R25=sqrt(2*(1-R12)^2),R15=sqrt(1+(1-R12)^2));alpha2"
   ]
  },
  {
   "cell_type": "code",
   "execution_count": 13,
   "metadata": {
    "collapsed": false,
    "deletable": true,
    "editable": true
   },
   "outputs": [],
   "source": [
    "alpha2(R12)=-8*((R12 - 1)^2 + 1)^(3/2)*R12^7 - 2*sqrt(2)*((R12 - 1)^2 + 1)^(3/2)*((R12 - 1)^2)^(3/2)*R12^4 + 56*((R12 - 1)^2 + 1)^(3/2)*R12^6 + 8*sqrt(2)*((R12 - 1)^2 + 1)^(3/2)*((R12 - 1)^2)^(3/2)*R12^3 - 152*((R12 - 1)^2 + 1)^(3/2)*R12^5 - 8*sqrt(2)*((R12 - 1)^2 + 1)^(3/2)*((R12 - 1)^2)^(3/2)*R12^2 + 200*((R12 - 1)^2 + 1)^(3/2)*R12^4 - 128*((R12 - 1)^2 + 1)^(3/2)*R12^3 + 32*((R12 - 1)^2 + 1)^(3/2)*R12^2"
   ]
  },
  {
   "cell_type": "code",
   "execution_count": 18,
   "metadata": {
    "collapsed": false,
    "deletable": true,
    "editable": true
   },
   "outputs": [
    {
     "data": {
      "text/plain": [
       "R12 |--> -24*sqrt((R12 - 1)^2 + 1)*(R12 - 1)*R12^7 - 6*sqrt(2)*((R12 - 1)^2 + 1)^(3/2)*sqrt((R12 - 1)^2)*(R12 - 1)*R12^4 - 6*sqrt(2)*sqrt((R12 - 1)^2 + 1)*((R12 - 1)^2)^(3/2)*(R12 - 1)*R12^4 - 56*((R12 - 1)^2 + 1)^(3/2)*R12^6 + 168*sqrt((R12 - 1)^2 + 1)*(R12 - 1)*R12^6 - 8*sqrt(2)*((R12 - 1)^2 + 1)^(3/2)*((R12 - 1)^2)^(3/2)*R12^3 + 24*sqrt(2)*((R12 - 1)^2 + 1)^(3/2)*sqrt((R12 - 1)^2)*(R12 - 1)*R12^3 + 24*sqrt(2)*sqrt((R12 - 1)^2 + 1)*((R12 - 1)^2)^(3/2)*(R12 - 1)*R12^3 + 336*((R12 - 1)^2 + 1)^(3/2)*R12^5 - 456*sqrt((R12 - 1)^2 + 1)*(R12 - 1)*R12^5 + 24*sqrt(2)*((R12 - 1)^2 + 1)^(3/2)*((R12 - 1)^2)^(3/2)*R12^2 - 24*sqrt(2)*((R12 - 1)^2 + 1)^(3/2)*sqrt((R12 - 1)^2)*(R12 - 1)*R12^2 - 24*sqrt(2)*sqrt((R12 - 1)^2 + 1)*((R12 - 1)^2)^(3/2)*(R12 - 1)*R12^2 - 760*((R12 - 1)^2 + 1)^(3/2)*R12^4 + 600*sqrt((R12 - 1)^2 + 1)*(R12 - 1)*R12^4 - 16*sqrt(2)*((R12 - 1)^2 + 1)^(3/2)*((R12 - 1)^2)^(3/2)*R12 + 800*((R12 - 1)^2 + 1)^(3/2)*R12^3 - 384*sqrt((R12 - 1)^2 + 1)*(R12 - 1)*R12^3 - 384*((R12 - 1)^2 + 1)^(3/2)*R12^2 + 96*sqrt((R12 - 1)^2 + 1)*(R12 - 1)*R12^2 + 64*((R12 - 1)^2 + 1)^(3/2)*R12"
      ]
     },
     "execution_count": 18,
     "metadata": {},
     "output_type": "execute_result"
    }
   ],
   "source": [
    "#The derivative of alpha2 is given by\n",
    "der_alpha2(R12)=alpha2.derivative();der_alpha2"
   ]
  },
  {
   "cell_type": "code",
   "execution_count": 15,
   "metadata": {
    "collapsed": false,
    "deletable": true,
    "editable": true
   },
   "outputs": [],
   "source": [
    "#Using the triangular inequality, the estimate |R12-1|<|R12+1| for 0<R12<1, we get the following function  up_bound_error_der2. Note that  up_bound_error_der2>=der_alpha2 if 0<R12<1:\n",
    "up_bound_error_der2(R12)=+24*sqrt((R12 + 1)^2 + 1)*(R12 + 1)*R12^7 + 6*sqrt(2)*((R12 + 1)^2 + 1)^(3/2)*sqrt((R12 + 1)^2)*(R12 + 1)*R12^4 + 6*sqrt(2)*sqrt((R12 + 1)^2 + 1)*((R12 + 1)^2)^(3/2)*(R12 + 1)*R12^4 + 56*((R12 + 1)^2 + 1)^(3/2)*R12^6 + 168*sqrt((R12 + 1)^2 + 1)*(R12 + 1)*R12^6 + 8*sqrt(2)*((R12 + 1)^2 + 1)^(3/2)*((R12 + 1)^2)^(3/2)*R12^3 + 24*sqrt(2)*((R12 + 1)^2 + 1)^(3/2)*sqrt((R12 + 1)^2)*(R12 + 1)*R12^3 + 24*sqrt(2)*sqrt((R12 + 1)^2 + 1)*((R12 + 1)^2)^(3/2)*(R12 + 1)*R12^3 + 336*((R12 + 1)^2 + 1)^(3/2)*R12^5 + 456*sqrt((R12 + 1)^2 + 1)*(R12 + 1)*R12^5 + 24*sqrt(2)*((R12 + 1)^2 + 1)^(3/2)*((R12 + 1)^2)^(3/2)*R12^2 + 24*sqrt(2)*((R12 + 1)^2 + 1)^(3/2)*sqrt((R12 + 1)^2)*(R12 + 1)*R12^2 + 24*sqrt(2)*sqrt((R12 + 1)^2 + 1)*((R12 + 1)^2)^(3/2)*(R12 + 1)*R12^2 + 760*((R12 + 1)^2 + 1)^(3/2)*R12^4 + 600*sqrt((R12 + 1)^2 + 1)*(R12 + 1)*R12^4 + 16*sqrt(2)*((R12 + 1)^2 + 1)^(3/2)*((R12 + 1)^2)^(3/2)*R12 + 800*((R12 + 1)^2 + 1)^(3/2)*R12^3 + 384*sqrt((R12 + 1)^2 + 1)*(R12 + 1)*R12^3 + 384*((R12 + 1)^2 + 1)^(3/2)*R12^2 + 96*sqrt((R12 + 1)^2 + 1)*(R12 + 1)*R12^2 + 64*((R12 + 1)^2 + 1)^(3/2)*R12"
   ]
  },
  {
   "cell_type": "code",
   "execution_count": 16,
   "metadata": {
    "collapsed": false,
    "deletable": true,
    "editable": true
   },
   "outputs": [
    {
     "data": {
      "text/plain": [
       "505.763071491843*sqrt(2) + 2023.05228596737"
      ]
     },
     "execution_count": 16,
     "metadata": {},
     "output_type": "execute_result"
    }
   ],
   "source": [
    "# Since up_bound_error_de2r>= der_alpha2, up_bound_error_der2 is monotinic in (0,1) and the constant c2 garanted by the middle value theorem is less than 0.5, we get the following upper bound for alpha2(c2):\n",
    "up_bound_error_der2(0.5)"
   ]
  },
  {
   "cell_type": "code",
   "execution_count": 17,
   "metadata": {
    "collapsed": false,
    "deletable": true,
    "editable": true
   },
   "outputs": [
    {
     "data": {
      "text/plain": [
       "3.03457842895106e-6"
      ]
     },
     "execution_count": 17,
     "metadata": {},
     "output_type": "execute_result"
    }
   ],
   "source": [
    "# Hence, we obtain the following upper bound for the truncation error\n",
    "error_estimate_2=(505.763071491843*2 + 2023.05228596737)*10^(-9);error_estimate_2"
   ]
  }
 ],
 "metadata": {
  "kernelspec": {
   "display_name": "SageMath 8.1",
   "language": "",
   "name": "sagemath"
  },
  "language_info": {
   "codemirror_mode": {
    "name": "ipython",
    "version": 2
   },
   "file_extension": ".py",
   "mimetype": "text/x-python",
   "name": "python",
   "nbconvert_exporter": "python",
   "pygments_lexer": "ipython2",
   "version": "2.7.14"
  }
 },
 "nbformat": 4,
 "nbformat_minor": 0
}
